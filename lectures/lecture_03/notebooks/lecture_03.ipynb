{
 "cells": [
  {
   "cell_type": "markdown",
   "metadata": {},
   "source": [
    "# Декораторы"
   ]
  },
  {
   "cell_type": "code",
   "execution_count": 26,
   "metadata": {},
   "outputs": [],
   "source": [
    "def foo(x):\n",
    "    print(x + 1)\n",
    "\n",
    "\n",
    "def decorator(foo):\n",
    "    def _dec(*args, **kwargs):\n",
    "        print(\"inside decorator\")\n",
    "        res = foo(*args, **kwargs)\n",
    "        return res\n",
    "    \n",
    "    return _dec"
   ]
  },
  {
   "cell_type": "code",
   "execution_count": 27,
   "metadata": {},
   "outputs": [
    {
     "name": "stdout",
     "output_type": "stream",
     "text": [
      "2\n"
     ]
    }
   ],
   "source": [
    "foo(1)"
   ]
  },
  {
   "cell_type": "code",
   "execution_count": 28,
   "metadata": {},
   "outputs": [
    {
     "name": "stdout",
     "output_type": "stream",
     "text": [
      "inside decorator\n",
      "2\n"
     ]
    }
   ],
   "source": [
    "foo = decorator(foo)\n",
    "foo(1)"
   ]
  },
  {
   "cell_type": "markdown",
   "metadata": {},
   "source": [
    "### В Python есть специальный синтаксис, который позволяет переместить модификацию функции ближе к моменту объявления функции:"
   ]
  },
  {
   "cell_type": "code",
   "execution_count": 41,
   "metadata": {},
   "outputs": [],
   "source": [
    "@decorator\n",
    "def foo(x):\n",
    "    \"\"\"\n",
    "    foo description\n",
    "    \"\"\"\n",
    "    print(x + 1)"
   ]
  },
  {
   "cell_type": "code",
   "execution_count": 42,
   "metadata": {},
   "outputs": [
    {
     "name": "stdout",
     "output_type": "stream",
     "text": [
      "inside decorator\n",
      "2\n"
     ]
    }
   ],
   "source": [
    "foo(1)"
   ]
  },
  {
   "cell_type": "markdown",
   "metadata": {},
   "source": [
    "### Есть небольшая проблема:"
   ]
  },
  {
   "cell_type": "code",
   "execution_count": 44,
   "metadata": {},
   "outputs": [
    {
     "data": {
      "text/plain": [
       "('_dec', None)"
      ]
     },
     "execution_count": 44,
     "metadata": {},
     "output_type": "execute_result"
    }
   ],
   "source": [
    "foo.__name__, foo.__doc__"
   ]
  },
  {
   "cell_type": "markdown",
   "metadata": {},
   "source": [
    "#### Еще \"пропадает\" ```__module__```\n",
    "#### Что делать?"
   ]
  },
  {
   "cell_type": "code",
   "execution_count": 51,
   "metadata": {},
   "outputs": [],
   "source": [
    "def decorator(foo):\n",
    "    def _dec(*args, **kwargs):\n",
    "        res = foo(*args, **kwargs)\n",
    "        return res\n",
    "    \n",
    "    _dec.__name__ = foo.__name__\n",
    "    _dec.__doc__ = foo.__doc__\n",
    "    _dec.__module__ = foo.__module__\n",
    "    \n",
    "    return _dec\n",
    "\n",
    "\n",
    "@decorator\n",
    "def foo(x):\n",
    "    \"\"\"\n",
    "    foo description\n",
    "    \"\"\"\n",
    "    print(x + 1)"
   ]
  },
  {
   "cell_type": "code",
   "execution_count": 52,
   "metadata": {
    "scrolled": true
   },
   "outputs": [
    {
     "data": {
      "text/plain": [
       "('foo', '\\n    foo description\\n    ')"
      ]
     },
     "execution_count": 52,
     "metadata": {},
     "output_type": "execute_result"
    }
   ],
   "source": [
    "foo.__name__, foo.__doc__"
   ]
  },
  {
   "cell_type": "markdown",
   "metadata": {},
   "source": [
    "#### Но это сложно, можно проще.\n",
    "#### Воспользуемся декоратором ```wraps``` из пакета ```functools``` <i>(подробнее про этот пакет чуть позже)</i>"
   ]
  },
  {
   "cell_type": "code",
   "execution_count": 55,
   "metadata": {},
   "outputs": [],
   "source": [
    "from functools import wraps\n",
    "\n",
    "\n",
    "def decorator(foo):\n",
    "    @wraps(foo)\n",
    "    def _dec(*args, **kwargs):\n",
    "        res = foo(*args, **kwargs)\n",
    "        return res\n",
    "    \n",
    "    return _dec\n",
    "\n",
    "\n",
    "@decorator\n",
    "def foo(x):\n",
    "    \"\"\"\n",
    "    foo description\n",
    "    \"\"\"\n",
    "    print(x + 1)"
   ]
  },
  {
   "cell_type": "code",
   "execution_count": 56,
   "metadata": {},
   "outputs": [
    {
     "data": {
      "text/plain": [
       "('foo', '\\n    foo description\\n    ')"
      ]
     },
     "execution_count": 56,
     "metadata": {},
     "output_type": "execute_result"
    }
   ],
   "source": [
    "foo.__name__, foo.__doc__"
   ]
  },
  {
   "cell_type": "markdown",
   "metadata": {},
   "source": [
    "### Декораторов может быть несколько:"
   ]
  },
  {
   "cell_type": "code",
   "execution_count": 60,
   "metadata": {},
   "outputs": [],
   "source": [
    "def dec1(func):\n",
    "    @wraps(func)\n",
    "    def _dec(*args, **kwargs):\n",
    "        print(\"inside dec1\")\n",
    "        res = func(*args, **kwargs)\n",
    "        return res\n",
    "        \n",
    "    return _dec\n",
    "\n",
    "\n",
    "def dec2(func):\n",
    "    @wraps(func)\n",
    "    def _dec(*args, **kwargs):\n",
    "        print(\"inside dec2\")\n",
    "        res = func(*args, **kwargs)\n",
    "        return res\n",
    "        \n",
    "    return _dec"
   ]
  },
  {
   "cell_type": "code",
   "execution_count": 7,
   "metadata": {},
   "outputs": [],
   "source": [
    "@dec2\n",
    "@dec1\n",
    "def func(arg1, arg2):\n",
    "    pass"
   ]
  },
  {
   "cell_type": "code",
   "execution_count": 9,
   "metadata": {},
   "outputs": [
    {
     "name": "stdout",
     "output_type": "stream",
     "text": [
      "inside dec2\n",
      "inside dec1\n"
     ]
    }
   ],
   "source": [
    "func(1, 2)"
   ]
  },
  {
   "cell_type": "markdown",
   "metadata": {},
   "source": [
    "#### Это же самое, что:"
   ]
  },
  {
   "cell_type": "code",
   "execution_count": 12,
   "metadata": {},
   "outputs": [],
   "source": [
    "def func(arg1, arg2):\n",
    "    pass"
   ]
  },
  {
   "cell_type": "code",
   "execution_count": 13,
   "metadata": {},
   "outputs": [],
   "source": [
    "func = dec2(dec1(func))"
   ]
  },
  {
   "cell_type": "code",
   "execution_count": 14,
   "metadata": {},
   "outputs": [
    {
     "name": "stdout",
     "output_type": "stream",
     "text": [
      "inside dec2\n",
      "inside dec1\n"
     ]
    }
   ],
   "source": [
    "func(1, 2)"
   ]
  },
  {
   "cell_type": "markdown",
   "metadata": {},
   "source": [
    "### Вопрос [?]"
   ]
  },
  {
   "cell_type": "code",
   "execution_count": 75,
   "metadata": {},
   "outputs": [],
   "source": [
    "flag = False\n",
    "\n",
    "\n",
    "def decorator(func):\n",
    "    @wraps(func)\n",
    "    def _dec(*args, **kwargs):\n",
    "        print(\"inside _dec\")\n",
    "        res = func(*args, **kwargs)\n",
    "        return res\n",
    "    \n",
    "    return func if flag else _dec\n",
    "\n",
    "\n",
    "@decorator\n",
    "def func():\n",
    "    pass"
   ]
  },
  {
   "cell_type": "code",
   "execution_count": 76,
   "metadata": {},
   "outputs": [
    {
     "name": "stdout",
     "output_type": "stream",
     "text": [
      "inside _dec\n"
     ]
    }
   ],
   "source": [
    "func()"
   ]
  },
  {
   "cell_type": "markdown",
   "metadata": {},
   "source": [
    "#### Что будет?"
   ]
  },
  {
   "cell_type": "code",
   "execution_count": null,
   "metadata": {},
   "outputs": [],
   "source": [
    "flag = True\n",
    "func()"
   ]
  },
  {
   "cell_type": "markdown",
   "metadata": {},
   "source": [
    "### В декоратор можно передавать аргументы:"
   ]
  },
  {
   "cell_type": "code",
   "execution_count": 80,
   "metadata": {},
   "outputs": [],
   "source": [
    "def decorator_with_args(dec_argument):\n",
    "    def _decorator(func):\n",
    "        @wraps(func)\n",
    "        def _dec(*args, **kwargs):\n",
    "            print(f\"inside decorator; {dec_argument}\")\n",
    "            res = func(*args, **kwargs)\n",
    "            return res\n",
    "        \n",
    "        return _dec\n",
    "    return _decorator"
   ]
  },
  {
   "cell_type": "code",
   "execution_count": 81,
   "metadata": {},
   "outputs": [],
   "source": [
    "@decorator_with_args(\"hop hey lala ley\")\n",
    "def func(x):\n",
    "    pass"
   ]
  },
  {
   "cell_type": "code",
   "execution_count": 82,
   "metadata": {
    "scrolled": true
   },
   "outputs": [
    {
     "name": "stdout",
     "output_type": "stream",
     "text": [
      "inside decorator; hop hey lala ley\n"
     ]
    }
   ],
   "source": [
    "func(None)"
   ]
  },
  {
   "cell_type": "markdown",
   "metadata": {},
   "source": [
    "#### Это то же самое, что:"
   ]
  },
  {
   "cell_type": "code",
   "execution_count": 88,
   "metadata": {},
   "outputs": [],
   "source": [
    "def decorator_with_args(dec_argument):\n",
    "    def _decorator(func):\n",
    "        @wraps(func)\n",
    "        def _dec(*args, **kwargs):\n",
    "            print(f\"inside decorator; {dec_argument}\")\n",
    "            res = func(*args, **kwargs)\n",
    "            return res\n",
    "        \n",
    "        return _dec\n",
    "    return _decorator"
   ]
  },
  {
   "cell_type": "code",
   "execution_count": 89,
   "metadata": {},
   "outputs": [],
   "source": [
    "def func(x):\n",
    "    pass"
   ]
  },
  {
   "cell_type": "code",
   "execution_count": 90,
   "metadata": {},
   "outputs": [],
   "source": [
    "decorator = decorator_with_args(\"hop hey lala ley\")  # получим тут декоратор\n",
    "func = decorator(func)  # получим модифицированную функцию"
   ]
  },
  {
   "cell_type": "code",
   "execution_count": 91,
   "metadata": {},
   "outputs": [
    {
     "name": "stdout",
     "output_type": "stream",
     "text": [
      "inside decorator; hop hey lala ley\n"
     ]
    }
   ],
   "source": [
    "func(None)"
   ]
  },
  {
   "cell_type": "markdown",
   "metadata": {},
   "source": [
    "#### А если мы хотим опциональные аргументы?"
   ]
  },
  {
   "cell_type": "code",
   "execution_count": 61,
   "metadata": {},
   "outputs": [],
   "source": [
    "def decorator_with_optional_arguments(func=None, *, dec_argument=\"default\"):\n",
    "    if func is None:\n",
    "        return lambda func: decorator_with_optional_arguments(func, dec_argument=dec_argument)\n",
    "    @wraps(func)\n",
    "    def _dec(*args, **kwargs):\n",
    "        print(f\"inside decorator; {dec_argument}\")\n",
    "        res = func(*args, **kwargs)\n",
    "        return res\n",
    "    \n",
    "    return _dec"
   ]
  },
  {
   "cell_type": "code",
   "execution_count": 36,
   "metadata": {},
   "outputs": [
    {
     "name": "stdout",
     "output_type": "stream",
     "text": [
      "inside decorator; Life is beatiful\n"
     ]
    }
   ],
   "source": [
    "@decorator_with_optional_arguments(dec_argument=\"Life is beatiful\")\n",
    "def func1():\n",
    "    pass\n",
    "\n",
    "\n",
    "func1()"
   ]
  },
  {
   "cell_type": "code",
   "execution_count": 37,
   "metadata": {},
   "outputs": [
    {
     "name": "stdout",
     "output_type": "stream",
     "text": [
      "inside decorator; default\n"
     ]
    }
   ],
   "source": [
    "@decorator_with_optional_arguments\n",
    "def func2():\n",
    "    pass\n",
    "\n",
    "\n",
    "func2()"
   ]
  },
  {
   "cell_type": "markdown",
   "metadata": {},
   "source": [
    "### Примеры полезных декораторов"
   ]
  },
  {
   "cell_type": "code",
   "execution_count": null,
   "metadata": {},
   "outputs": [],
   "source": [
    "# TODO"
   ]
  },
  {
   "cell_type": "markdown",
   "metadata": {},
   "source": [
    "# Области видимости"
   ]
  },
  {
   "cell_type": "code",
   "execution_count": null,
   "metadata": {},
   "outputs": [],
   "source": [
    "# TODO"
   ]
  },
  {
   "cell_type": "markdown",
   "metadata": {},
   "source": [
    "# @classmethod и @staticmethod"
   ]
  },
  {
   "cell_type": "code",
   "execution_count": 98,
   "metadata": {},
   "outputs": [],
   "source": [
    "class A(object):\n",
    "    count_ = 100500\n",
    "    \n",
    "    def foo(self, x):\n",
    "        print(f\"foo with self={self} and x={x}\")\n",
    "\n",
    "    @classmethod\n",
    "    def class_foo(cls, x):\n",
    "        print(f\"class foo with cls={cls} and local_variables={dir()} \\\n",
    "including count_={cls.count_}\")\n",
    "\n",
    "    @staticmethod\n",
    "    def static_foo(x):\n",
    "        print(f\"static foo x={x} and local_variables={dir()}\")  \n",
    "\n",
    "\n",
    "a=A()"
   ]
  },
  {
   "cell_type": "code",
   "execution_count": 99,
   "metadata": {},
   "outputs": [
    {
     "name": "stdout",
     "output_type": "stream",
     "text": [
      "foo with self=<__main__.A object at 0x7fdc8460cc88> and x=some_x\n"
     ]
    }
   ],
   "source": [
    "a.foo(\"some_x\")"
   ]
  },
  {
   "cell_type": "code",
   "execution_count": 100,
   "metadata": {},
   "outputs": [
    {
     "name": "stdout",
     "output_type": "stream",
     "text": [
      "class foo with cls=<class '__main__.A'> and local_variables=['cls', 'x'] including count_=100500\n"
     ]
    }
   ],
   "source": [
    "a.class_foo(\"some_x\")"
   ]
  },
  {
   "cell_type": "code",
   "execution_count": 101,
   "metadata": {},
   "outputs": [
    {
     "name": "stdout",
     "output_type": "stream",
     "text": [
      "class foo with cls=<class '__main__.A'> and local_variables=['cls', 'x'] including count_=100500\n"
     ]
    }
   ],
   "source": [
    "A.class_foo(\"some_x\")"
   ]
  },
  {
   "cell_type": "code",
   "execution_count": 102,
   "metadata": {},
   "outputs": [
    {
     "name": "stdout",
     "output_type": "stream",
     "text": [
      "static foo x=some_x and local_variables=['x']\n"
     ]
    }
   ],
   "source": [
    "a.static_foo(\"some_x\")"
   ]
  },
  {
   "cell_type": "code",
   "execution_count": 103,
   "metadata": {},
   "outputs": [
    {
     "name": "stdout",
     "output_type": "stream",
     "text": [
      "static foo x=some_x and local_variables=['x']\n"
     ]
    }
   ],
   "source": [
    "A.static_foo(\"some_x\")"
   ]
  },
  {
   "cell_type": "markdown",
   "metadata": {},
   "source": [
    "# Дескрипторы"
   ]
  },
  {
   "cell_type": "code",
   "execution_count": null,
   "metadata": {},
   "outputs": [],
   "source": [
    "# TODO"
   ]
  },
  {
   "cell_type": "markdown",
   "metadata": {},
   "source": [
    "# Наследование и MRO"
   ]
  },
  {
   "cell_type": "code",
   "execution_count": null,
   "metadata": {},
   "outputs": [],
   "source": [
    "# TODO"
   ]
  },
  {
   "cell_type": "markdown",
   "metadata": {},
   "source": [
    "# Декораторы классов"
   ]
  },
  {
   "cell_type": "code",
   "execution_count": null,
   "metadata": {},
   "outputs": [],
   "source": [
    "# TODO"
   ]
  }
 ],
 "metadata": {
  "kernelspec": {
   "display_name": "Python 3",
   "language": "python",
   "name": "python3"
  },
  "language_info": {
   "codemirror_mode": {
    "name": "ipython",
    "version": 3
   },
   "file_extension": ".py",
   "mimetype": "text/x-python",
   "name": "python",
   "nbconvert_exporter": "python",
   "pygments_lexer": "ipython3",
   "version": "3.7.0"
  }
 },
 "nbformat": 4,
 "nbformat_minor": 2
}
